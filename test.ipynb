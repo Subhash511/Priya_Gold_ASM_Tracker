{
 "cells": [
  {
   "cell_type": "code",
   "execution_count": null,
   "id": "97b1ddf0",
   "metadata": {},
   "outputs": [],
   "source": [
    "import pandas as pd\n",
    "import numpy as np\n",
    "import json"
   ]
  },
  {
   "cell_type": "code",
   "execution_count": null,
   "id": "0f57ce9f",
   "metadata": {},
   "outputs": [],
   "source": [
    "df = pd.read_excel('Data/db_master.xlsx',sheet_name='Dist_Detail_Master')"
   ]
  },
  {
   "cell_type": "code",
   "execution_count": null,
   "id": "9ac8a38a",
   "metadata": {},
   "outputs": [],
   "source": [
    "colu = ['STATE NAME', 'ASM Name', 'SS Code', 'SS NAME', 'SS TOWN',\n",
    "       'Dist. Code', 'Dealer Name (As Per GST)','Total Target']"
   ]
  },
  {
   "cell_type": "code",
   "execution_count": null,
   "id": "ce661791",
   "metadata": {},
   "outputs": [],
   "source": [
    "df = df[colu]"
   ]
  },
  {
   "cell_type": "code",
   "execution_count": null,
   "id": "2919496f",
   "metadata": {},
   "outputs": [],
   "source": [
    "df.shape"
   ]
  },
  {
   "cell_type": "code",
   "execution_count": null,
   "id": "9d8d50e9",
   "metadata": {},
   "outputs": [],
   "source": [
    "df.drop_duplicates(inplace=True)"
   ]
  },
  {
   "cell_type": "code",
   "execution_count": null,
   "id": "0b0bf937",
   "metadata": {},
   "outputs": [],
   "source": [
    "df['STATE NAME'].unique()"
   ]
  },
  {
   "cell_type": "code",
   "execution_count": null,
   "id": "75a5063c",
   "metadata": {},
   "outputs": [],
   "source": [
    "df = df[df['STATE NAME'].isin(['Maharashtra','Gujarat', 'Rajasthan'])]\n",
    "df = df.apply(lambda col: col.str.strip().replace(r'\\s+', ' ', regex=True) if col.dtype == \"object\" else col)"
   ]
  },
  {
   "cell_type": "code",
   "execution_count": null,
   "id": "dbd19110",
   "metadata": {},
   "outputs": [],
   "source": [
    "df['STATE NAME'] = df['STATE NAME'].str.title()\n",
    "df['ASM Name'] = df['ASM Name'].str.title()\n",
    "df['SS NAME'] = df['SS NAME'].str.title()\n",
    "df['Dealer Name (As Per GST)'] = df['Dealer Name (As Per GST)'].str.title()"
   ]
  },
  {
   "cell_type": "code",
   "execution_count": null,
   "id": "603f49c9",
   "metadata": {},
   "outputs": [],
   "source": [
    "df['Total Target'] = df['Total Target'].astype(int,errors='ignore')\n",
    "df['Total Target'] = df['Total Target'].fillna(0)\n",
    "df['Total Target'] = df['Total Target'].astype(int,errors='ignore')\n",
    "df['Dist. Code'] = df['Dist. Code'].fillna('NA')"
   ]
  },
  {
   "cell_type": "code",
   "execution_count": null,
   "id": "221be51e",
   "metadata": {},
   "outputs": [],
   "source": [
    "df['SS'] = df['SS NAME']+\"|\"+df['SS Code']\n",
    "df['DB'] = df['Dealer Name (As Per GST)']+\"|\"+df['Dist. Code']"
   ]
  },
  {
   "cell_type": "code",
   "execution_count": null,
   "id": "de2fe59f",
   "metadata": {},
   "outputs": [],
   "source": [
    "df.rename(columns={'Total Target':'TGT','STATE NAME':'STATE','ASM Name':'ASM'},inplace=True)"
   ]
  },
  {
   "cell_type": "code",
   "execution_count": null,
   "id": "8bb88b61",
   "metadata": {},
   "outputs": [],
   "source": [
    "df.columns"
   ]
  },
  {
   "cell_type": "code",
   "execution_count": null,
   "id": "762321f9",
   "metadata": {},
   "outputs": [],
   "source": [
    "df.isna().sum()\n"
   ]
  },
  {
   "cell_type": "code",
   "execution_count": null,
   "id": "5057be79",
   "metadata": {},
   "outputs": [],
   "source": [
    "col2 = ['STATE','SS','ASM','DB','TGT']"
   ]
  },
  {
   "cell_type": "code",
   "execution_count": null,
   "id": "c0a90f7d",
   "metadata": {},
   "outputs": [],
   "source": [
    "df1 = df[col2]"
   ]
  },
  {
   "cell_type": "code",
   "execution_count": null,
   "id": "086cfc4c",
   "metadata": {},
   "outputs": [],
   "source": [
    "df1['ASM'].unique()"
   ]
  },
  {
   "cell_type": "markdown",
   "id": "1efd4018",
   "metadata": {},
   "source": [
    "# Read ASM Password"
   ]
  },
  {
   "cell_type": "code",
   "execution_count": null,
   "id": "dbf13d95",
   "metadata": {},
   "outputs": [],
   "source": [
    "pas = pd.read_excel('Data/asm.xlsx',usecols=['ASM','Password'])"
   ]
  },
  {
   "cell_type": "code",
   "execution_count": null,
   "id": "8fdee921",
   "metadata": {},
   "outputs": [],
   "source": [
    "df2 = df1[['STATE','SS','ASM']].drop_duplicates()\n",
    "mer = pd.merge(df2,pas,on='ASM',how='left')\n",
    "mer['Password'] = mer['Password'].fillna(2025)\n",
    "df2 = mer"
   ]
  },
  {
   "cell_type": "code",
   "execution_count": null,
   "id": "e5d6f6c3",
   "metadata": {},
   "outputs": [],
   "source": [
    "df3 = df1[['SS','ASM','DB','TGT']]"
   ]
  },
  {
   "cell_type": "code",
   "execution_count": null,
   "id": "02a65960",
   "metadata": {},
   "outputs": [],
   "source": [
    "df3.sort_values(by=['DB','ASM']).to_json('Output/dbtgt.json')"
   ]
  },
  {
   "cell_type": "code",
   "execution_count": null,
   "id": "a1b04652",
   "metadata": {},
   "outputs": [],
   "source": [
    "df3.columns"
   ]
  },
  {
   "cell_type": "markdown",
   "id": "210c0661",
   "metadata": {},
   "source": [
    "# SS to ASM"
   ]
  },
  {
   "cell_type": "code",
   "execution_count": null,
   "id": "8686ca47",
   "metadata": {},
   "outputs": [],
   "source": [
    "df2.columns"
   ]
  },
  {
   "cell_type": "code",
   "execution_count": null,
   "id": "f7294be0",
   "metadata": {},
   "outputs": [],
   "source": [
    "# Create nested dictionary with password at DB level\n",
    "nested = {}\n",
    "\n",
    "for _, row in df2.iterrows():\n",
    "    state = row['STATE']\n",
    "    ss = row['SS']\n",
    "    db = row['ASM'] # DB Name\n",
    "    pwd = row['Password']\n",
    "\n",
    "    state_dict = nested.setdefault(state, {})\n",
    "    ss_dict = state_dict.setdefault(ss, {})\n",
    "    db_dict = ss_dict.setdefault(db, {\"password\": pwd})\n",
    "\n",
    "\n",
    "# Save\n",
    "with open(\"Output/db.json\", \"w\") as f:\n",
    "    json.dump(nested, f, indent=4)"
   ]
  },
  {
   "cell_type": "code",
   "execution_count": null,
   "id": "ef90e55e",
   "metadata": {},
   "outputs": [],
   "source": []
  }
 ],
 "metadata": {
  "kernelspec": {
   "display_name": "Python 3",
   "language": "python",
   "name": "python3"
  },
  "language_info": {
   "codemirror_mode": {
    "name": "ipython",
    "version": 3
   },
   "file_extension": ".py",
   "mimetype": "text/x-python",
   "name": "python",
   "nbconvert_exporter": "python",
   "pygments_lexer": "ipython3",
   "version": "3.13.3"
  }
 },
 "nbformat": 4,
 "nbformat_minor": 5
}
